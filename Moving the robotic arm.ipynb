{
 "cells": [
  {
   "cell_type": "markdown",
   "metadata": {},
   "source": [
    "# Import library"
   ]
  },
  {
   "cell_type": "code",
   "execution_count": 1,
   "metadata": {},
   "outputs": [],
   "source": [
    "import usb_arm"
   ]
  },
  {
   "cell_type": "markdown",
   "metadata": {},
   "source": [
    "# Get devices"
   ]
  },
  {
   "cell_type": "code",
   "execution_count": 2,
   "metadata": {},
   "outputs": [
    {
     "name": "stdout",
     "output_type": "stream",
     "text": [
      "Decimal VendorID=4711 & ProductID=1\n",
      "Hexadecimal VendorID=0x1267 & ProductID=0x1\n",
      "\n",
      "Decimal VendorID=1452 & ProductID=33306\n",
      "Hexadecimal VendorID=0x5ac & ProductID=0x821a\n",
      "\n",
      "Decimal VendorID=2652 & ProductID=17664\n",
      "Hexadecimal VendorID=0xa5c & ProductID=0x4500\n",
      "\n",
      "Decimal VendorID=1452 & ProductID=33346\n",
      "Hexadecimal VendorID=0x5ac & ProductID=0x8242\n",
      "\n",
      "Decimal VendorID=1452 & ProductID=595\n",
      "Hexadecimal VendorID=0x5ac & ProductID=0x253\n",
      "\n",
      "Decimal VendorID=1452 & ProductID=34057\n",
      "Hexadecimal VendorID=0x5ac & ProductID=0x8509\n",
      "\n",
      "Decimal VendorID=1060 & ProductID=9491\n",
      "Hexadecimal VendorID=0x424 & ProductID=0x2513\n",
      "\n",
      "Decimal VendorID=1060 & ProductID=9491\n",
      "Hexadecimal VendorID=0x424 & ProductID=0x2513\n",
      "\n"
     ]
    }
   ],
   "source": [
    "devices = usb_arm.usb_devices()\n",
    "devices.getUsbDevices()"
   ]
  },
  {
   "cell_type": "markdown",
   "metadata": {},
   "source": [
    "# Use arm"
   ]
  },
  {
   "cell_type": "code",
   "execution_count": 29,
   "metadata": {},
   "outputs": [],
   "source": [
    "arm = usb_arm.Arm(idVendor=4711,idProduct=1)"
   ]
  },
  {
   "cell_type": "markdown",
   "metadata": {},
   "source": [
    "# Actions"
   ]
  },
  {
   "cell_type": "code",
   "execution_count": 30,
   "metadata": {},
   "outputs": [],
   "source": [
    "arm.move(usb_arm.LedOn)"
   ]
  },
  {
   "cell_type": "code",
   "execution_count": 5,
   "metadata": {},
   "outputs": [],
   "source": [
    "arm.move(usb_arm.ElbowUp)"
   ]
  },
  {
   "cell_type": "code",
   "execution_count": 6,
   "metadata": {
    "collapsed": true
   },
   "outputs": [],
   "source": [
    "arm.move(usb_arm.ElbowDown | usb_arm.BaseClockWise, 0.5)"
   ]
  },
  {
   "cell_type": "code",
   "execution_count": 10,
   "metadata": {},
   "outputs": [],
   "source": [
    "arm.move(usb_arm.ShoulderUp | usb_arm.WristUp)"
   ]
  },
  {
   "cell_type": "code",
   "execution_count": 40,
   "metadata": {
    "collapsed": true
   },
   "outputs": [],
   "source": [
    "arm.move(usb_arm.WristDown,0.1)"
   ]
  },
  {
   "cell_type": "code",
   "execution_count": 20,
   "metadata": {
    "collapsed": true
   },
   "outputs": [],
   "source": [
    "arm.move(usb_arm.ShoulderDown | usb_arm.ElbowUp)"
   ]
  },
  {
   "cell_type": "code",
   "execution_count": 39,
   "metadata": {
    "collapsed": true
   },
   "outputs": [],
   "source": [
    "arm.move(usb_arm.ShoulderDown,0.1)"
   ]
  },
  {
   "cell_type": "code",
   "execution_count": 55,
   "metadata": {},
   "outputs": [],
   "source": [
    "arm.move(usb_arm.BaseClockWise, 0.1)"
   ]
  },
  {
   "cell_type": "code",
   "execution_count": 60,
   "metadata": {
    "collapsed": true
   },
   "outputs": [],
   "source": [
    "arm.move(usb_arm.GripsClose,0.1)"
   ]
  },
  {
   "cell_type": "code",
   "execution_count": 62,
   "metadata": {},
   "outputs": [],
   "source": [
    "arm.move(usb_arm.ShoulderDown,0.05)"
   ]
  },
  {
   "cell_type": "code",
   "execution_count": 65,
   "metadata": {
    "collapsed": true
   },
   "outputs": [],
   "source": [
    "arm.move(usb_arm.BaseClockWise, 0.5)"
   ]
  },
  {
   "cell_type": "code",
   "execution_count": null,
   "metadata": {
    "collapsed": true
   },
   "outputs": [],
   "source": []
  }
 ],
 "metadata": {
  "kernelspec": {
   "display_name": "Python [conda env:anaconda]",
   "language": "python",
   "name": "conda-env-anaconda-py"
  },
  "language_info": {
   "codemirror_mode": {
    "name": "ipython",
    "version": 3
   },
   "file_extension": ".py",
   "mimetype": "text/x-python",
   "name": "python",
   "nbconvert_exporter": "python",
   "pygments_lexer": "ipython3",
   "version": "3.5.3"
  }
 },
 "nbformat": 4,
 "nbformat_minor": 2
}
